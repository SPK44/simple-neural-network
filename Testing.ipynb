{
 "cells": [
  {
   "cell_type": "code",
   "execution_count": 1,
   "metadata": {},
   "outputs": [],
   "source": [
    "from data_parser import parse_csv, enum_classes\n",
    "from nn_layers import input_layer, hidden_layer, output_layer\n",
    "from neural_network import nn\n",
    "import numpy as np"
   ]
  },
  {
   "cell_type": "code",
   "execution_count": 2,
   "metadata": {},
   "outputs": [],
   "source": [
    "x = parse_csv('train.x.csv', 1, 27)"
   ]
  },
  {
   "cell_type": "code",
   "execution_count": 3,
   "metadata": {},
   "outputs": [],
   "source": [
    "l = input_layer(x[0:1])"
   ]
  },
  {
   "cell_type": "code",
   "execution_count": 4,
   "metadata": {},
   "outputs": [
    {
     "data": {
      "text/plain": [
       "(27, 1)"
      ]
     },
     "execution_count": 4,
     "metadata": {},
     "output_type": "execute_result"
    }
   ],
   "source": [
    "l.get_signal().shape"
   ]
  },
  {
   "cell_type": "code",
   "execution_count": 5,
   "metadata": {},
   "outputs": [
    {
     "data": {
      "text/plain": [
       "(13000, 26)"
      ]
     },
     "execution_count": 5,
     "metadata": {},
     "output_type": "execute_result"
    }
   ],
   "source": [
    "x.shape"
   ]
  },
  {
   "cell_type": "code",
   "execution_count": 6,
   "metadata": {},
   "outputs": [],
   "source": [
    "h = hidden_layer(l,3,np.tanh)"
   ]
  },
  {
   "cell_type": "code",
   "execution_count": 7,
   "metadata": {},
   "outputs": [],
   "source": [
    "h.forward_prop()"
   ]
  },
  {
   "cell_type": "code",
   "execution_count": 8,
   "metadata": {},
   "outputs": [
    {
     "data": {
      "text/plain": [
       "array([[ 1.        ],\n",
       "       [ 0.93712859],\n",
       "       [-0.43120687],\n",
       "       [ 0.46105504]])"
      ]
     },
     "execution_count": 8,
     "metadata": {},
     "output_type": "execute_result"
    }
   ],
   "source": [
    "h.get_signal()"
   ]
  },
  {
   "cell_type": "code",
   "execution_count": 9,
   "metadata": {},
   "outputs": [],
   "source": [
    "p = output_layer(h,5,np.tanh)"
   ]
  },
  {
   "cell_type": "code",
   "execution_count": 10,
   "metadata": {},
   "outputs": [],
   "source": [
    "p.forward_prop()"
   ]
  },
  {
   "cell_type": "code",
   "execution_count": 11,
   "metadata": {},
   "outputs": [
    {
     "data": {
      "text/plain": [
       "array([[ 0.00559543],\n",
       "       [ 0.00965738],\n",
       "       [-0.02041582],\n",
       "       [-0.00126112],\n",
       "       [-0.00886366]])"
      ]
     },
     "execution_count": 11,
     "metadata": {},
     "output_type": "execute_result"
    }
   ],
   "source": [
    "p.get_signal()"
   ]
  },
  {
   "cell_type": "code",
   "execution_count": 12,
   "metadata": {},
   "outputs": [],
   "source": [
    "y = parse_csv('train.y.csv',1,2,str)"
   ]
  },
  {
   "cell_type": "code",
   "execution_count": 13,
   "metadata": {},
   "outputs": [],
   "source": [
    "network = nn(x,enum_classes(y),1e-3)\n",
    "network2 = nn(x,enum_classes(y),1e-3,13)"
   ]
  },
  {
   "cell_type": "code",
   "execution_count": 14,
   "metadata": {},
   "outputs": [],
   "source": [
    "network.append_hidden_layer(4, np.tanh)\n",
    "network2.append_hidden_layer(4, np.tanh)\n",
    "network.forward_prop()\n",
    "network2.forward_prop()"
   ]
  },
  {
   "cell_type": "code",
   "execution_count": 15,
   "metadata": {},
   "outputs": [
    {
     "name": "stdout",
     "output_type": "stream",
     "text": [
      "[[  1.        1.        1.      ...,   1.        1.        1.     ]\n",
      " [ 41.08     60.8      51.47    ...,  37.58     38.01     36.23   ]\n",
      " [  6.579     5.973     4.971   ...,   5.168     6.073     5.422  ]\n",
      " ..., \n",
      " [  0.4075   -1.39      0.02959 ...,  -0.1882   -0.9518   -1.438  ]\n",
      " [ -0.6719    0.2256   -0.1367  ...,  -0.1197    0.8782   -1.55   ]\n",
      " [ -0.05147  -0.7208    0.1082  ...,   0.05751  -0.5961   -1.502  ]]\n",
      "[[ 1.          1.          1.         ...,  1.          1.          1.        ]\n",
      " [-0.2932472  -0.3036354  -0.25084761 ..., -0.29381566 -0.25906223\n",
      "  -0.23708209]\n",
      " [-0.10469456  0.28240097  0.32937631 ..., -0.09101773  0.04018534\n",
      "  -0.00969488]\n",
      " [-0.78903782 -0.89201995 -0.81432173 ..., -0.73255784 -0.73901227\n",
      "  -0.73495028]\n",
      " [ 0.10568792  0.07498624  0.03387364 ...,  0.12580547 -0.07452682\n",
      "   0.11590275]]\n",
      "[[ 0.0753278   0.07507331  0.07515462 ...,  0.07530248  0.07547684\n",
      "   0.07531874]\n",
      " [ 0.07747554  0.07726821  0.07714747 ...,  0.07742864  0.07733818\n",
      "   0.07732243]\n",
      " [ 0.07764586  0.0779701   0.07786627 ...,  0.07756678  0.07755474\n",
      "   0.07763012]\n",
      " ..., \n",
      " [ 0.07572514  0.07562249  0.07577091 ...,  0.07572218  0.07604485\n",
      "   0.07576995]\n",
      " [ 0.07750885  0.07753213  0.07741664 ...,  0.07743253  0.07749938\n",
      "   0.07736833]\n",
      " [ 0.07651354  0.07636978  0.07646783 ...,  0.07657489  0.07669494\n",
      "   0.07652931]]\n"
     ]
    }
   ],
   "source": [
    "network.print_signals()"
   ]
  },
  {
   "cell_type": "code",
   "execution_count": 16,
   "metadata": {},
   "outputs": [
    {
     "data": {
      "text/plain": [
       "array([ 1.,  1.,  1., ...,  1.,  1.,  1.])"
      ]
     },
     "execution_count": 16,
     "metadata": {},
     "output_type": "execute_result"
    }
   ],
   "source": [
    "np.sum(network.get_output(), axis=0)"
   ]
  },
  {
   "cell_type": "code",
   "execution_count": 17,
   "metadata": {},
   "outputs": [],
   "source": [
    "network.calc_end_losses()"
   ]
  },
  {
   "cell_type": "code",
   "execution_count": 18,
   "metadata": {},
   "outputs": [
    {
     "data": {
      "text/plain": [
       "2.5655600475273315"
      ]
     },
     "execution_count": 18,
     "metadata": {},
     "output_type": "execute_result"
    }
   ],
   "source": [
    "network.get_loss()"
   ]
  },
  {
   "cell_type": "code",
   "execution_count": 30,
   "metadata": {},
   "outputs": [
    {
     "data": {
      "text/plain": [
       "(13, 13000)"
      ]
     },
     "execution_count": 30,
     "metadata": {},
     "output_type": "execute_result"
    }
   ],
   "source": [
    "network.get_output().shape"
   ]
  },
  {
   "cell_type": "code",
   "execution_count": 23,
   "metadata": {},
   "outputs": [
    {
     "data": {
      "text/plain": [
       "2.5649493574615367"
      ]
     },
     "execution_count": 23,
     "metadata": {},
     "output_type": "execute_result"
    }
   ],
   "source": [
    "-np.log(1.0/13)"
   ]
  },
  {
   "cell_type": "code",
   "execution_count": null,
   "metadata": {},
   "outputs": [],
   "source": []
  }
 ],
 "metadata": {
  "kernelspec": {
   "display_name": "Python 3",
   "language": "python",
   "name": "python3"
  },
  "language_info": {
   "codemirror_mode": {
    "name": "ipython",
    "version": 3
   },
   "file_extension": ".py",
   "mimetype": "text/x-python",
   "name": "python",
   "nbconvert_exporter": "python",
   "pygments_lexer": "ipython3",
   "version": "3.6.2"
  }
 },
 "nbformat": 4,
 "nbformat_minor": 2
}
