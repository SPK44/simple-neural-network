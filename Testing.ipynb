{
 "cells": [
  {
   "cell_type": "code",
   "execution_count": 1,
   "metadata": {},
   "outputs": [],
   "source": [
    "from data_parser import parse_csv, enum_classes, prep_kaggle, reg_data, apply_reg\n",
    "from nn_layers import input_layer, hidden_layer, output_layer\n",
    "from neural_network import nn, d_tanh, d_cross_entropy_loss\n",
    "import numpy as np"
   ]
  },
  {
   "cell_type": "code",
   "execution_count": 2,
   "metadata": {},
   "outputs": [],
   "source": [
    "dic = [\"Blues\",\"Country\",\"Electronic\",\"Folk\",\"International\",\"Jazz\",\"Latin\",\"New_Age\",\"Pop_Rock\",\"Rap\",\"Reggae\",\"RnB\",\"Vocal\"]\n",
    "x = parse_csv('train.x.csv', 1, 27)\n",
    "y = parse_csv('train.y.csv',1,2,'S20').astype(str)\n",
    "z = parse_csv('test.x.csv',1,27)"
   ]
  },
  {
   "cell_type": "code",
   "execution_count": 3,
   "metadata": {},
   "outputs": [],
   "source": [
    "def relu(x):\n",
    "    return np.maximum(x,0,x)\n",
    "\n",
    "def d_relu(x):\n",
    "    x[x<=0] = 0\n",
    "    x[x>0] = 1\n",
    "    return x "
   ]
  },
  {
   "cell_type": "code",
   "execution_count": null,
   "metadata": {},
   "outputs": [],
   "source": [
    "network = nn(reg_data(x),enum_classes(y,dic))\n",
    "network.append_hidden_layer(100)\n",
    "network.append_hidden_layer(70, relu, d_relu)\n",
    "#network.append_hidden_layer(50)"
   ]
  },
  {
   "cell_type": "code",
   "execution_count": null,
   "metadata": {},
   "outputs": [],
   "source": [
    "network.k_fold_cross_validation(100000, 0.03, 1e-7, k=7, batch=1)"
   ]
  },
  {
   "cell_type": "code",
   "execution_count": null,
   "metadata": {},
   "outputs": [],
   "source": [
    "network.test(apply_reg(z))\n",
    "l = network.get_output().T\n",
    "#prep_kaggle(l,dic,\"out.csv\")"
   ]
  },
  {
   "cell_type": "code",
   "execution_count": null,
   "metadata": {},
   "outputs": [],
   "source": []
  },
  {
   "cell_type": "code",
   "execution_count": null,
   "metadata": {},
   "outputs": [],
   "source": []
  }
 ],
 "metadata": {
  "kernelspec": {
   "display_name": "Python 3",
   "language": "python",
   "name": "python3"
  },
  "language_info": {
   "codemirror_mode": {
    "name": "ipython",
    "version": 3
   },
   "file_extension": ".py",
   "mimetype": "text/x-python",
   "name": "python",
   "nbconvert_exporter": "python",
   "pygments_lexer": "ipython3",
   "version": "3.6.2"
  }
 },
 "nbformat": 4,
 "nbformat_minor": 2
}
