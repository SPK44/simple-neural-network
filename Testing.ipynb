{
 "cells": [
  {
   "cell_type": "code",
   "execution_count": 1,
   "metadata": {},
   "outputs": [],
   "source": [
    "from data_parser import parse_csv, enum_classes\n",
    "from nn_layers import input_layer, hidden_layer, output_layer\n",
    "from neural_network import nn, d_tanh, d_cross_entropy_loss\n",
    "import numpy as np"
   ]
  },
  {
   "cell_type": "code",
   "execution_count": 2,
   "metadata": {},
   "outputs": [],
   "source": [
    "dic = [\"Blues\",\"Country\",\"Electronic\",\"Folk\",\"International\",\"Jazz\",\"Latin\",\"New_Age\",\"Pop_Rock\",\"Rap\",\"Reggae\",\"RnB\",\"Vocal\"]\n",
    "x = parse_csv('train.x.csv', 1, 27)\n",
    "y = parse_csv('train.y.csv',1,2,'S20').astype(str)"
   ]
  },
  {
   "cell_type": "code",
   "execution_count": 3,
   "metadata": {},
   "outputs": [],
   "source": [
    "network = nn(x,enum_classes(y,dic))\n",
    "network.append_hidden_layer(100, np.tanh)"
   ]
  },
  {
   "cell_type": "code",
   "execution_count": 6,
   "metadata": {},
   "outputs": [
    {
     "name": "stdout",
     "output_type": "stream",
     "text": [
      "Loss for epoch 10000 is 2.2992543541521133\n",
      "Loss for epoch 10500 is 2.224911502139125\n",
      "Loss for epoch 11000 is 2.1922546047459215\n",
      "Loss for epoch 11500 is 2.3103538069740055\n",
      "Loss for epoch 12000 is 2.2636444667028246\n",
      "Loss for epoch 12500 is 2.2689247886013377\n",
      "Loss for epoch 13000 is 2.2481330862601157\n",
      "Loss for epoch 13500 is 2.223904522686888\n",
      "Loss for epoch 14000 is 2.220435873255077\n",
      "Loss for epoch 14500 is 2.2105858956672964\n",
      "Loss for epoch 15000 is 2.240815843801874\n",
      "Loss for epoch 15500 is 2.190279146369965\n",
      "Loss for epoch 16000 is 2.1017764894333224\n",
      "Loss for epoch 16500 is 2.260874288089593\n",
      "Loss for epoch 17000 is 2.2061001038153623\n",
      "Loss for epoch 17500 is 2.1052342318670827\n",
      "Loss for epoch 18000 is 2.1386173515143403\n",
      "Loss for epoch 18500 is 2.16510316072232\n",
      "Loss for epoch 19000 is 2.068614211223904\n",
      "Loss for epoch 19500 is 2.2118265986373857\n"
     ]
    },
    {
     "data": {
      "text/plain": [
       "2.1821631593928661"
      ]
     },
     "execution_count": 6,
     "metadata": {},
     "output_type": "execute_result"
    }
   ],
   "source": [
    "network.train(10000, 0.001, 1e-6, 100)\n",
    "network.get_loss()"
   ]
  },
  {
   "cell_type": "code",
   "execution_count": 5,
   "metadata": {},
   "outputs": [
    {
     "data": {
      "text/plain": [
       "array([ 1.,  1.,  1.,  1.,  1.,  1.,  1.,  1.,  1.,  1.])"
      ]
     },
     "execution_count": 5,
     "metadata": {},
     "output_type": "execute_result"
    }
   ],
   "source": [
    "np.sum(network.get_output(), axis=0)"
   ]
  },
  {
   "cell_type": "code",
   "execution_count": null,
   "metadata": {},
   "outputs": [],
   "source": []
  },
  {
   "cell_type": "code",
   "execution_count": null,
   "metadata": {},
   "outputs": [],
   "source": []
  }
 ],
 "metadata": {
  "kernelspec": {
   "display_name": "Python 3",
   "language": "python",
   "name": "python3"
  },
  "language_info": {
   "codemirror_mode": {
    "name": "ipython",
    "version": 3
   },
   "file_extension": ".py",
   "mimetype": "text/x-python",
   "name": "python",
   "nbconvert_exporter": "python",
   "pygments_lexer": "ipython3",
   "version": "3.6.2"
  }
 },
 "nbformat": 4,
 "nbformat_minor": 2
}
